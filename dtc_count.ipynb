{
  "nbformat": 4,
  "nbformat_minor": 0,
  "metadata": {
    "colab": {
      "name": "dtc_count.ipynb",
      "provenance": [],
      "collapsed_sections": [],
      "authorship_tag": "ABX9TyMQn/+/oPOPdme9hYYJltpg",
      "include_colab_link": true
    },
    "kernelspec": {
      "name": "python3",
      "display_name": "Python 3"
    },
    "language_info": {
      "name": "python"
    }
  },
  "cells": [
    {
      "cell_type": "markdown",
      "metadata": {
        "id": "view-in-github",
        "colab_type": "text"
      },
      "source": [
        "<a href=\"https://colab.research.google.com/github/kleczekr/dtc/blob/main/dtc_count.ipynb\" target=\"_parent\"><img src=\"https://colab.research.google.com/assets/colab-badge.svg\" alt=\"Open In Colab\"/></a>"
      ]
    },
    {
      "cell_type": "markdown",
      "metadata": {
        "id": "NNjwRA70sAkH"
      },
      "source": [
        "## Code for implementing POS-counter for the database listing content of the Days to Come internet magazine\n",
        "\n",
        "The code below shows an easy way of obtaining detailed POS data for articles from the Days to Come internet magazine hosted by tour marketplace TourRadar."
      ]
    },
    {
      "cell_type": "code",
      "metadata": {
        "id": "RDFmqqpwneoG"
      },
      "source": [
        "import spacy\n",
        "from collections import Counter\n",
        "import pandas as pd"
      ],
      "execution_count": null,
      "outputs": []
    },
    {
      "cell_type": "code",
      "metadata": {
        "id": "LzDoU16VnmJE"
      },
      "source": [
        "nlp = spacy.load('en_core_web_sm')"
      ],
      "execution_count": null,
      "outputs": []
    },
    {
      "cell_type": "code",
      "metadata": {
        "id": "Ni0fKVucnr_q"
      },
      "source": [
        "df = pd.read_csv('path_to_file', \n",
        "                 converters={'categories': eval, \n",
        "                             'tags': eval})"
      ],
      "execution_count": null,
      "outputs": []
    },
    {
      "cell_type": "markdown",
      "metadata": {
        "id": "UG-mKiDSspUi"
      },
      "source": [
        "### Creating a separate column with spaCy object"
      ]
    },
    {
      "cell_type": "code",
      "metadata": {
        "id": "67XbesXGn3r5"
      },
      "source": [
        "df['spacy'] = 0"
      ],
      "execution_count": null,
      "outputs": []
    },
    {
      "cell_type": "code",
      "metadata": {
        "id": "SjaSPKBCn8Ip"
      },
      "source": [
        "def spacify(df_):\n",
        "  df_['spacy'] = nlp(df_['paragraph_text'])\n",
        "  return df_"
      ],
      "execution_count": null,
      "outputs": []
    },
    {
      "cell_type": "code",
      "metadata": {
        "id": "71A_qkvLoAFZ"
      },
      "source": [
        "df = df.apply(spacify, axis=1)"
      ],
      "execution_count": null,
      "outputs": []
    },
    {
      "cell_type": "markdown",
      "metadata": {
        "id": "KlZJgDegs2h3"
      },
      "source": [
        "### Creating a list populated by POS counts for each of the paragraphs from the DF"
      ]
    },
    {
      "cell_type": "code",
      "metadata": {
        "id": "toudYL2vr4V4"
      },
      "source": [
        "pos_list = []"
      ],
      "execution_count": null,
      "outputs": []
    },
    {
      "cell_type": "code",
      "metadata": {
        "id": "Y9jYNMI2r-RA"
      },
      "source": [
        "for paragraph in df.spacy:\n",
        "  poscount = Counter()\n",
        "  for sentence in paragraph.sents:\n",
        "    poscount['sentence_count'] += 1\n",
        "    for token in sentence:\n",
        "      # count parts of speech\n",
        "      poscount[token.pos_] += 1\n",
        "      poscount['token_count'] += 1\n",
        "  # the following three lines count the repeated words\n",
        "  words = [token.text for token in paragraph if token.is_stop != True and token.is_punct != True and token.is_space != True]\n",
        "  word_freq = Counter(words)\n",
        "  poscount['repeat_words'] = word_freq.most_common(3)\n",
        "  pos_list.append(poscount)"
      ],
      "execution_count": null,
      "outputs": []
    },
    {
      "cell_type": "markdown",
      "metadata": {
        "id": "nJNeQ9ZatCFy"
      },
      "source": [
        "### Converting list to a DataFrame and joining it with the preexisting DataFrame"
      ]
    },
    {
      "cell_type": "code",
      "metadata": {
        "id": "kasP8HZbsLIo"
      },
      "source": [
        "pos_df = pd.DataFrame(pos_list).fillna(0)"
      ],
      "execution_count": null,
      "outputs": []
    },
    {
      "cell_type": "code",
      "metadata": {
        "id": "6Rrhh3vAsSC4"
      },
      "source": [
        "df_pos = pd.concat([df.reset_index(drop=True), pos_df.reset_index(drop=True)], axis=1)"
      ],
      "execution_count": null,
      "outputs": []
    },
    {
      "cell_type": "code",
      "metadata": {
        "id": "dAU-VQARsdRo"
      },
      "source": [
        "# still many paragraphs which are basically empty---let's remove them\n",
        "df_pos = df_pos[df_pos['paragraph_text'].map(len) > 1]"
      ],
      "execution_count": null,
      "outputs": []
    }
  ]
}