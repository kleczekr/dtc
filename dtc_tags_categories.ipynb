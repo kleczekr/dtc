{
  "nbformat": 4,
  "nbformat_minor": 0,
  "metadata": {
    "colab": {
      "name": "dtc_tags_categories.ipynb",
      "provenance": [],
      "authorship_tag": "ABX9TyPb1L9Qbrcpp+FX/MnLCnAz",
      "include_colab_link": true
    },
    "kernelspec": {
      "name": "python3",
      "display_name": "Python 3"
    },
    "language_info": {
      "name": "python"
    }
  },
  "cells": [
    {
      "cell_type": "markdown",
      "metadata": {
        "id": "view-in-github",
        "colab_type": "text"
      },
      "source": [
        "<a href=\"https://colab.research.google.com/github/kleczekr/dtc/blob/main/dtc_tags_categories.ipynb\" target=\"_parent\"><img src=\"https://colab.research.google.com/assets/colab-badge.svg\" alt=\"Open In Colab\"/></a>"
      ]
    },
    {
      "cell_type": "markdown",
      "metadata": {
        "id": "MXKehSkhtd6P"
      },
      "source": [
        "## Fixing the category issue\n",
        "\n",
        "The fact that articles in the Days to Come magazine have predominantly multiple categories is a bit of a bother. Here I present a simplistic way of selecting the most popular category from each lists of categories for each of the articles."
      ]
    },
    {
      "cell_type": "code",
      "metadata": {
        "id": "5aYCacBS0wRZ"
      },
      "source": [
        "import pandas as pd\n",
        "from collections import Counter\n",
        "import operator"
      ],
      "execution_count": null,
      "outputs": []
    },
    {
      "cell_type": "code",
      "metadata": {
        "id": "wvGOupvV05pE"
      },
      "source": [
        "df = pd.read_csv('path_to_file', \n",
        "                 converters={'categories': eval, \n",
        "                             'tags': eval})"
      ],
      "execution_count": null,
      "outputs": []
    },
    {
      "cell_type": "code",
      "metadata": {
        "colab": {
          "base_uri": "https://localhost:8080/"
        },
        "id": "-0oxzzDp9Bcc",
        "outputId": "1f0248a2-eaf8-4849-809b-1c45534e1bc7"
      },
      "source": [
        "# let's count how long are the category lists in the articles\n",
        "df.categories.map(len).value_counts()"
      ],
      "execution_count": null,
      "outputs": [
        {
          "output_type": "execute_result",
          "data": {
            "text/plain": [
              "2    9943\n",
              "1    9211\n",
              "3    1618\n",
              "4      93\n",
              "7      28\n",
              "Name: categories, dtype: int64"
            ]
          },
          "metadata": {
            "tags": []
          },
          "execution_count": 34
        }
      ]
    },
    {
      "cell_type": "markdown",
      "metadata": {
        "id": "BSg9Rkegt7ea"
      },
      "source": [
        "It seems that most of the articles have two categories, but in some the category count comes up to seven. In order to divide the articles into neat groups, I need one category per article. In order for the categories to be most comprehensive, I'd like to select the most popular categories. The first step towards that is by simply counting how often the categories occur."
      ]
    },
    {
      "cell_type": "code",
      "metadata": {
        "id": "Vekp6_bM1uKM"
      },
      "source": [
        "cats = df.categories"
      ],
      "execution_count": null,
      "outputs": []
    },
    {
      "cell_type": "code",
      "metadata": {
        "id": "tEiTGKJc4ij9"
      },
      "source": [
        "catcount = Counter()\n",
        "for list_ in cats:\n",
        "  for item in list_:\n",
        "    catcount[item] += 1"
      ],
      "execution_count": null,
      "outputs": []
    },
    {
      "cell_type": "code",
      "metadata": {
        "colab": {
          "base_uri": "https://localhost:8080/"
        },
        "id": "xJYse3pa5QfS",
        "outputId": "96f37269-d7bf-4b5c-852b-ed9f78e38c07"
      },
      "source": [
        "catcount"
      ],
      "execution_count": null,
      "outputs": [
        {
          "output_type": "execute_result",
          "data": {
            "text/plain": [
              "Counter({'Africa': 1028,\n",
              "         'Asia': 3600,\n",
              "         'Central America': 22,\n",
              "         'Culture': 883,\n",
              "         'Destination Guide': 79,\n",
              "         'Destinations': 3743,\n",
              "         'Europe': 4147,\n",
              "         'Food & Drink': 1551,\n",
              "         'Lifestyle': 5110,\n",
              "         'Local Travel': 92,\n",
              "         'North America': 1748,\n",
              "         'Oceania': 592,\n",
              "         'Photography': 659,\n",
              "         'South America': 926,\n",
              "         'Stories': 642,\n",
              "         'Sustainable Travel': 387,\n",
              "         'Tips & Tricks': 5196,\n",
              "         'Tour Operators': 428,\n",
              "         'Virtual Travel': 98,\n",
              "         'Worldly Insights': 3586,\n",
              "         'no categories': 2})"
            ]
          },
          "metadata": {
            "tags": []
          },
          "execution_count": 23
        }
      ]
    },
    {
      "cell_type": "markdown",
      "metadata": {
        "id": "vo2uap8HwTLc"
      },
      "source": [
        "The next step is actually selecting the most popular category in a list of categories. I was actually tempted to use an if... elif... else loop to do that, but it would be rather error-prone as the number of categories per article grows. Eventually I opted for a simpler solution:"
      ]
    },
    {
      "cell_type": "code",
      "metadata": {
        "id": "xlm4SCxr6RSV"
      },
      "source": [
        "overarching_cat = []\n",
        "for list_ in cats:\n",
        "  temp = []\n",
        "  for item in list_:\n",
        "    temp.append(catcount[item])\n",
        "  max_index = temp.index(max(temp))\n",
        "  overarching_cat.append(list_[max_index])"
      ],
      "execution_count": null,
      "outputs": []
    },
    {
      "cell_type": "code",
      "metadata": {
        "id": "Pq6O8AlbCiGh"
      },
      "source": [
        "# what is left to be done is simply inserting the created list\n",
        "# as a se[arate column in the dataframe]\n",
        "df.insert(5, 'overarching_category', overarching_cat)"
      ],
      "execution_count": null,
      "outputs": []
    }
  ]
}